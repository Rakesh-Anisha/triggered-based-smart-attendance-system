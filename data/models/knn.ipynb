{
 "cells": [
  {
   "cell_type": "code",
   "execution_count": 1,
   "id": "7777e9df",
   "metadata": {},
   "outputs": [
    {
     "name": "stdout",
     "output_type": "stream",
     "text": [
      "📊 KNN Model Evaluation\n",
      "---------------------------------\n",
      "✅ Mean Squared Error (MSE): 0.0\n",
      "✅ R² Score: 1.0\n",
      "✅ Mean Absolute Percentage Error (MAPE): 0.0\n"
     ]
    }
   ],
   "source": [
    "# Import libraries\n",
    "import pandas as pd\n",
    "from sklearn.model_selection import train_test_split\n",
    "from sklearn.neighbors import KNeighborsClassifier\n",
    "from sklearn.metrics import mean_squared_error, r2_score, mean_absolute_percentage_error\n",
    "\n",
    "# Load dataset\n",
    "df = pd.read_csv('../data/dataset.csv')\n",
    "\n",
    "# Create avg_attendance and debarred\n",
    "df['avg_attendance'] = df[['Jan-24', 'Feb-24', 'Mar-24', 'Apr-24', 'May-24', 'Jun-24',\n",
    "                           'Jul-24', 'Aug-24', 'Sep-24', 'Oct-24', 'Nov-24', 'Dec-24']].mean(axis=1)\n",
    "df['debarred'] = (df['avg_attendance'] < 75).astype(int)\n",
    "\n",
    "# Features and labels\n",
    "X = df[['avg_attendance']]  # You can add more features if needed\n",
    "y = df['debarred']\n",
    "\n",
    "# Train-test split\n",
    "X_train, X_test, y_train, y_test = train_test_split(X, y, test_size=0.2, random_state=42)\n",
    "\n",
    "# Train KNN model\n",
    "knn = KNeighborsClassifier(n_neighbors=5)  # You can change 'k' by modifying n_neighbors\n",
    "knn.fit(X_train, y_train)\n",
    "\n",
    "# Predict\n",
    "y_pred = knn.predict(X_test)\n",
    "\n",
    "# Evaluation\n",
    "mse = mean_squared_error(y_test, y_pred)\n",
    "r2 = r2_score(y_test, y_pred)\n",
    "mape = mean_absolute_percentage_error(y_test, y_pred)\n",
    "\n",
    "# Results\n",
    "print(\"📊 KNN Model Evaluation\")\n",
    "print(\"---------------------------------\")\n",
    "print(\"✅ Mean Squared Error (MSE):\", mse)\n",
    "print(\"✅ R² Score:\", r2)\n",
    "print(\"✅ Mean Absolute Percentage Error (MAPE):\", mape)\n"
   ]
  }
 ],
 "metadata": {
  "kernelspec": {
   "display_name": "Python 3",
   "language": "python",
   "name": "python3"
  },
  "language_info": {
   "codemirror_mode": {
    "name": "ipython",
    "version": 3
   },
   "file_extension": ".py",
   "mimetype": "text/x-python",
   "name": "python",
   "nbconvert_exporter": "python",
   "pygments_lexer": "ipython3",
   "version": "3.13.1"
  }
 },
 "nbformat": 4,
 "nbformat_minor": 5
}
